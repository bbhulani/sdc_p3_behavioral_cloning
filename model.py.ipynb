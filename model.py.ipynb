{
 "cells": [
  {
   "cell_type": "code",
   "execution_count": 1,
   "metadata": {},
   "outputs": [
    {
     "name": "stdout",
     "output_type": "stream",
     "text": [
      "Total images/camera captured =  3731\n"
     ]
    },
    {
     "name": "stderr",
     "output_type": "stream",
     "text": [
      "Using TensorFlow backend.\n"
     ]
    },
    {
     "name": "stdout",
     "output_type": "stream",
     "text": [
      "Epoch 1/15\n",
      "2880/2984 [===========================>..] - ETA: 0s - loss: 0.1278"
     ]
    },
    {
     "name": "stderr",
     "output_type": "stream",
     "text": [
      "/home/carnd/anaconda3/envs/carnd-term1/lib/python3.5/site-packages/keras/engine/training.py:1569: UserWarning: Epoch comprised more than `samples_per_epoch` samples, which might affect learning results. Set `samples_per_epoch` correctly to avoid this warning.\n",
      "  warnings.warn('Epoch comprised more than '\n"
     ]
    },
    {
     "name": "stdout",
     "output_type": "stream",
     "text": [
      "3072/2984 [==============================] - 11s - loss: 0.1270 - val_loss: 0.1178\n",
      "Epoch 2/15\n",
      "3072/2984 [==============================] - 8s - loss: 0.0910 - val_loss: 0.0852\n",
      "Epoch 3/15\n",
      "3072/2984 [==============================] - 8s - loss: 0.0870 - val_loss: 0.0696\n",
      "Epoch 4/15\n",
      "3072/2984 [==============================] - 9s - loss: 0.0763 - val_loss: 0.1095\n",
      "Epoch 5/15\n",
      "3072/2984 [==============================] - 8s - loss: 0.0909 - val_loss: 0.0739\n",
      "Epoch 6/15\n",
      "3120/2984 [===============================] - 9s - loss: 0.0746 - val_loss: 0.0764\n",
      "Epoch 7/15\n",
      "3072/2984 [==============================] - 8s - loss: 0.0839 - val_loss: 0.0802\n",
      "Epoch 8/15\n",
      "3072/2984 [==============================] - 8s - loss: 0.0722 - val_loss: 0.0628\n",
      "Epoch 9/15\n",
      "3072/2984 [==============================] - 8s - loss: 0.0719 - val_loss: 0.0602\n",
      "Epoch 10/15\n",
      "3072/2984 [==============================] - 8s - loss: 0.0668 - val_loss: 0.1097\n",
      "Epoch 11/15\n",
      "3072/2984 [==============================] - 8s - loss: 0.0791 - val_loss: 0.0597\n",
      "Epoch 12/15\n",
      "3120/2984 [===============================] - 8s - loss: 0.0785 - val_loss: 0.0566\n",
      "Epoch 13/15\n",
      "3072/2984 [==============================] - 8s - loss: 0.0798 - val_loss: 0.0955\n",
      "Epoch 14/15\n",
      "3072/2984 [==============================] - 8s - loss: 0.0691 - val_loss: 0.0600\n",
      "Epoch 15/15\n",
      "3072/2984 [==============================] - 8s - loss: 0.0684 - val_loss: 0.0548\n"
     ]
    }
   ],
   "source": [
    "import csv\n",
    "import cv2\n",
    "import numpy as np\n",
    "import os\n",
    "import sklearn\n",
    "from sklearn.utils import shuffle\n",
    "from sklearn.model_selection import train_test_split\n",
    "\n",
    "lines = []\n",
    "\n",
    "# Read each line of csv file and store it in lines array\n",
    "def csv_reader(filename, lines_in):\n",
    "    with open(filename) as csvfile:\n",
    "        reader = csv.reader(csvfile)\n",
    "        for line in reader:\n",
    "            lines_in.append(line)\n",
    "    return lines_in\n",
    "lines = csv_reader('../track1/laps.csv', lines)\n",
    "lines = csv_reader('../track1/backward.csv', lines)\n",
    "lines = csv_reader('../track1/backward.csv', lines)\n",
    "lines = csv_reader('../track1/recovery.csv', lines)\n",
    "print('Total images/camera captured = ', len(lines))\n",
    "\n",
    "# Split data in training and validation samples\n",
    "train_samples, validation_samples = train_test_split(lines, test_size=0.2)\n",
    "\n",
    "# Generator function to load data and preprocess in batchsize portions \n",
    "def generator(samples, batch_size=32):\n",
    "    num_samples = len(samples)\n",
    "    while 1: # Loop forever so the generator never terminates\n",
    "        shuffle(samples)\n",
    "        for offset in range(0, num_samples, batch_size):\n",
    "            batch_samples = samples[offset:offset+batch_size]\n",
    "            \n",
    "            # Read image from path given in the CSV file and store it in images array\n",
    "            # Store steering measurements in measurements array\n",
    "            images = []\n",
    "            measurements = []\n",
    "            \n",
    "            for batch_sample in batch_samples:\n",
    "                for i in range(3):\n",
    "                    source_path = batch_sample[i] #Index 0:center 1:left 2:right\n",
    "                    filename = source_path.split('/')[-1]\n",
    "                    current_path = '../track1/IMG/' + filename\n",
    "                    image = cv2.imread(current_path)\n",
    "                    images.append(image)\n",
    "\n",
    "                    # Steering measurement + correction based on center/left/right image\n",
    "                    if i == '0':\n",
    "                        measurement = float(batch_sample[3])\n",
    "                    elif i == '1':\n",
    "                        measurement = float(batch_sample[3]) + 0.2\n",
    "                    else: # i == '2'\n",
    "                        measurement = float(batch_sample[3]) - 0.2        \n",
    "                    measurements.append(measurement)\n",
    "\n",
    "                    # Augmenting data by flipping images\n",
    "                    images.append(cv2.flip(image,1))\n",
    "                    measurements.append(measurement*-1.0)\n",
    "\n",
    "            # Images are features and steering measurements are labels\n",
    "            # Convert to numpy arrays for keras modeling\n",
    "            X_train = np.array(images)\n",
    "            y_train = np.array(measurements)\n",
    "            yield sklearn.utils.shuffle(X_train, y_train)\n",
    "\n",
    "# compile and train the model using the generator function\n",
    "train_generator = generator(train_samples, batch_size=32)\n",
    "validation_generator = generator(validation_samples, batch_size=32)\n",
    "\n",
    "# Keras model (Neural Network)\n",
    "from keras.models import Sequential\n",
    "from keras.layers import Convolution2D, MaxPooling2D\n",
    "from keras.layers import Dense, Flatten, Lambda, Dropout, Cropping2D\n",
    "model = Sequential()\n",
    "\n",
    "# Normalize x/255 and subract by 0.5 for zero mean\n",
    "model.add(Lambda(lambda x: x/255 - 0.5, input_shape=(160,320,3)))\n",
    "model.add(Cropping2D(cropping=((70,25), (60,60))))\n",
    "\n",
    "# Nvidia architecture\n",
    "# Layer1: Input = 65x200x3 Output = 31x98x24\n",
    "model.add(Convolution2D(24,5,5,activation=\"relu\"))\n",
    "model.add(MaxPooling2D())\n",
    "# Layer2: Output = 14x47x36\n",
    "model.add(Convolution2D(36,5,5,activation=\"relu\"))\n",
    "model.add(MaxPooling2D())\n",
    "# Layer3: Output = 5x22x48\n",
    "model.add(Convolution2D(48,5,5,activation=\"relu\"))\n",
    "model.add(MaxPooling2D())\n",
    "#Layer4: Output = 2x10x64\n",
    "model.add(Convolution2D(64,3,3,activation=\"relu\"))\n",
    "model.add(MaxPooling2D())\n",
    "\n",
    "model.add(Flatten())\n",
    "model.add(Dense(100))\n",
    "model.add(Dropout(0.5))\n",
    "model.add(Dense(50))\n",
    "model.add(Dropout(0.5))\n",
    "model.add(Dense(10))\n",
    "model.add(Dropout(0.5))\n",
    "model.add(Dense(1))\n",
    "\n",
    "model.compile(loss='mse', optimizer='adam')\n",
    "model.fit_generator(train_generator, \\\n",
    "                    samples_per_epoch=len(train_samples), \\\n",
    "                    validation_data=validation_generator, \\\n",
    "                    nb_val_samples=len(validation_samples), \\\n",
    "                    nb_epoch=15)\n",
    "\n",
    "model.save('model.h5')"
   ]
  },
  {
   "cell_type": "code",
   "execution_count": null,
   "metadata": {
    "collapsed": true
   },
   "outputs": [],
   "source": []
  }
 ],
 "metadata": {
  "kernelspec": {
   "display_name": "Python 3",
   "language": "python",
   "name": "python3"
  },
  "language_info": {
   "codemirror_mode": {
    "name": "ipython",
    "version": 3
   },
   "file_extension": ".py",
   "mimetype": "text/x-python",
   "name": "python",
   "nbconvert_exporter": "python",
   "pygments_lexer": "ipython3",
   "version": "3.5.2"
  },
  "widgets": {
   "state": {},
   "version": "1.1.2"
  }
 },
 "nbformat": 4,
 "nbformat_minor": 2
}
